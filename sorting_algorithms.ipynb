{
 "cells": [
  {
   "cell_type": "markdown",
   "metadata": {},
   "source": [
    "## Selection Sort\n",
    "* The element in the first position among the unsorted elements is compared with those in the rest of the positions, one by one, and their positions are swapped if the element in the first position is greater.\n",
    "* This way, the smallest of unsorted elements is __selected__ and moved to the beginning of unsorted elements, adjacent to already sorted smaller elements.\n",
    "* For a list of `n` elements, _selection sort_ takes `(n-1)` passes over unsorted elements, with the number of elements in each pass decreasing by 1."
   ]
  },
  {
   "cell_type": "code",
   "execution_count": null,
   "metadata": {},
   "outputs": [],
   "source": [
    "def selection_sort(inList):\n",
    "    inListLen = len(inList)\n",
    "    for i in range(0, inListLen - 1):\n",
    "        for j in range(i + 1, inListLen):\n",
    "            if inList[i] > inList[j]:\n",
    "                inList[j], inList[i] = inList[i], inList[j]\n",
    "    return inList"
   ]
  },
  {
   "cell_type": "markdown",
   "metadata": {},
   "source": [
    "## Bubble Sort\n",
    "* Starting with the first and the second of the unsorted elements, each pair of adjacent elements are compared and their postions are swapped if the left element is greater than the right element.\n",
    "* This way, the biggest of unsorted elements __bubbles__ to the end of unsorted elements, adjacent to already sorted bigger elements.\n",
    "* For a list of `n` elements, _bubble sort_ takes `(n-1)` passes over unsorted elements, with the number of elements in each pass decreasing by 1."
   ]
  },
  {
   "cell_type": "code",
   "execution_count": null,
   "metadata": {},
   "outputs": [],
   "source": [
    "def bubble_sort(inList):\n",
    "    inListLen = len(inList)\n",
    "    for i in range(0, inListLen - 1):\n",
    "        for j in range(0, (inListLen - 1) - i):\n",
    "            if inList[j] > inList[j + 1]:\n",
    "                inList[j], inList[j + 1] = inList[j + 1], inList[j]\n",
    "    return inList"
   ]
  },
  {
   "cell_type": "markdown",
   "metadata": {},
   "source": [
    "## Insertion Sort\n",
    "* Each element of the input list is compared to elements in another list containing the already processed elements of the input list in a sorted order. The comparison continues till right position is found in the sorted list for this element.\n",
    "* This way, each element of the input list is __inserted__ into a new sorted list in its right position.\n",
    "* For a list of `n` elements, _insertion sort_ takes `n` passes, with the number of elements in the sorted list increasing by 1 with each pass."
   ]
  },
  {
   "cell_type": "code",
   "execution_count": null,
   "metadata": {},
   "outputs": [],
   "source": [
    "def insertion_sort(inList):\n",
    "    inListLen = len(inList)\n",
    "    for i in range(0, inListLen):\n",
    "        element = inList[i]\n",
    "        if i > 1:\n",
    "            for j in range(0, i):\n",
    "                if j < i - 1 and element >= outList[j] and element <= outList[j + 1]:\n",
    "                    outList.insert(j + 1, element)\n",
    "                    break\n",
    "                elif j == 0 and element <= outList[j]:\n",
    "                    outList.insert(0, element)\n",
    "                    break\n",
    "                elif j == i - 1:\n",
    "                    outList.append(element)\n",
    "        elif i == 1:\n",
    "            if element >= outList[0]:\n",
    "                outList.append(element)\n",
    "            else:\n",
    "                outList.insert(0, element)\n",
    "        else:\n",
    "            outList = [element]\n",
    "    return outList"
   ]
  },
  {
   "cell_type": "markdown",
   "metadata": {},
   "source": [
    "## Merge Sort (Non-recursive)"
   ]
  },
  {
   "cell_type": "code",
   "execution_count": null,
   "metadata": {},
   "outputs": [],
   "source": [
    "def merge_lists_nr(inList1, inList2):\n",
    "    mergedList = []\n",
    "    while (len(inList1) > 0 and len(inList2) > 0):\n",
    "        if inList1[0] < inList2[0]:\n",
    "            mergedList.append(inList1.pop(0))\n",
    "        elif inList1[0] > inList2[0]:\n",
    "            mergedList.append(inList2.pop(0))\n",
    "        else:\n",
    "            mergedList.append(inList1.pop(0))\n",
    "            mergedList.append(inList2.pop(0))\n",
    "    if (len(inList1) != 0):\n",
    "        mergedList.extend(inList1)\n",
    "    elif (len(inList2) != 0):\n",
    "        mergedList.extend(inList2)\n",
    "    return mergedList\n",
    "\n",
    "def merge_sort_nr(inList):\n",
    "    sortedList = list(map(lambda x: [x], inList))\n",
    "    while (len(sortedList) > 1):\n",
    "        sortedSubList = merge_lists_nr(sortedList[0], sortedList[1])\n",
    "        sortedList.append(sortedSubList)\n",
    "        sortedList.pop(1)\n",
    "        sortedList.pop(0)\n",
    "    return sortedList[0]"
   ]
  },
  {
   "cell_type": "markdown",
   "metadata": {},
   "source": [
    "## Merge Sort (Recursive)"
   ]
  },
  {
   "cell_type": "code",
   "execution_count": null,
   "metadata": {},
   "outputs": [],
   "source": [
    "def merge_lists(inList1, inList2):\n",
    "    mergedList = []\n",
    "    while (len(inList1) > 0 and len(inList2) > 0):\n",
    "        if inList1[0] < inList2[0]:\n",
    "            mergedList.append(inList1.pop(0))\n",
    "        elif inList1[0] > inList2[0]:\n",
    "            mergedList.append(inList2.pop(0))\n",
    "        else:\n",
    "            mergedList.append(inList1.pop(0))\n",
    "            mergedList.append(inList2.pop(0))\n",
    "    if (len(inList1) != 0):\n",
    "        mergedList.extend(inList1)\n",
    "    elif (len(inList2) != 0):\n",
    "        mergedList.extend(inList2)\n",
    "    return mergedList\n",
    "\n",
    "def merge_sort(inList):\n",
    "    if len(inList) == 1:\n",
    "        return inList\n",
    "    else:\n",
    "        inListLen = int(len(inList)/2)\n",
    "        listPartA = merge_sort(inList[:inListLen])\n",
    "        listPartB = merge_sort(inList[inListLen:])\n",
    "        return merge_lists(listPartB, listPartA)"
   ]
  },
  {
   "cell_type": "markdown",
   "metadata": {},
   "source": [
    "## Quick Sort"
   ]
  },
  {
   "cell_type": "code",
   "execution_count": null,
   "metadata": {},
   "outputs": [],
   "source": [
    "def quick_sort(inList, **kwargs):\n",
    "    if kwargs:\n",
    "        startIdx = kwargs[\"LeftIndex\"]\n",
    "        endIdx = kwargs[\"RightIndex\"]\n",
    "    else:\n",
    "        startIdx = 0\n",
    "        endIdx = len(inList) - 1\n",
    "    numElements = (endIdx + 1) - startIdx\n",
    "    if numElements <= 1:\n",
    "        return inList\n",
    "    elif numElements == 2:\n",
    "        if inList[startIdx] > inList[endIdx]:\n",
    "            inList[startIdx], inList[endIdx] = inList[endIdx], inList[startIdx]\n",
    "        return inList\n",
    "    else:\n",
    "        pivotIdx = endIdx\n",
    "        leftIdx = startIdx\n",
    "        rightIdx = pivotIdx - 1\n",
    "\n",
    "        while leftIdx <= rightIdx:\n",
    "            while inList[leftIdx] < inList[pivotIdx]:\n",
    "                leftIdx += 1\n",
    "            while inList[rightIdx] > inList[pivotIdx]:\n",
    "                rightIdx -= 1\n",
    "            if leftIdx < rightIdx:\n",
    "                inList[leftIdx], inList[rightIdx] = inList[rightIdx], inList[leftIdx]\n",
    "                leftIdx += 1\n",
    "                rightIdx -= 1\n",
    "\n",
    "        inList[leftIdx], inList[pivotIdx] = inList[pivotIdx], inList[leftIdx]\n",
    "\n",
    "    if startIdx < leftIdx - 1:\n",
    "        quick_sort(inList, LeftIndex=startIdx, RightIndex=(leftIdx - 1))\n",
    "    if leftIdx + 1 < pivotIdx:\n",
    "        quick_sort(inList, LeftIndex=(leftIdx + 1), RightIndex=pivotIdx)\n",
    "\n",
    "    return inList"
   ]
  },
  {
   "cell_type": "markdown",
   "metadata": {},
   "source": [
    "### Tests"
   ]
  },
  {
   "cell_type": "code",
   "execution_count": null,
   "metadata": {},
   "outputs": [],
   "source": [
    "testList = [3, 54, 2, 299, 1, 23, 2, 35, 93, 223, 55, 4, 7, 35, 44, 0, 26, 98, 5, 6, 234, 39, -4, -3]\n",
    "selection_sort(testList)"
   ]
  },
  {
   "cell_type": "code",
   "execution_count": null,
   "metadata": {},
   "outputs": [],
   "source": [
    "testList = [3, 54, 2, 299, 1, 23, 2, 35, 93, 223, 55, 4, 7, 35, 44, 0, 26, 98, 5, 6, 234, 39, -4, -3]\n",
    "bubble_sort(testList)"
   ]
  },
  {
   "cell_type": "code",
   "execution_count": null,
   "metadata": {},
   "outputs": [],
   "source": [
    "testList = [3, 54, 2, 299, 1, 23, 2, 35, 93, 223, 55, 4, 7, 35, 44, 0, 26, 98, 5, 6, 234, 39, -4, -3]\n",
    "insertion_sort(testList)"
   ]
  },
  {
   "cell_type": "code",
   "execution_count": null,
   "metadata": {},
   "outputs": [],
   "source": [
    "testList = [3, 54, 2, 299, 1, 23, 2, 35, 93, 223, 55, 4, 7, 35, 44, 0, 26, 98, 5, 6, 234, 39, -4, -3]\n",
    "merge_sort_nr(testList)"
   ]
  },
  {
   "cell_type": "code",
   "execution_count": null,
   "metadata": {},
   "outputs": [],
   "source": [
    "testList = [3, 54, 2, 299, 1, 23, 2, 35, 93, 223, 55, 4, 7, 35, 44, 0, 26, 98, 5, 6, 234, 39, -4, -3]\n",
    "merge_sort(testList)"
   ]
  },
  {
   "cell_type": "code",
   "execution_count": null,
   "metadata": {},
   "outputs": [],
   "source": [
    "testList = [3, 54, 2, 299, 1, 23, 2, 35, 93, 223, 55, 4, 7, 35, 44, 0, 26, 98, 5, 6, 234, 39, -4, -3]\n",
    "quick_sort(testList)"
   ]
  }
 ],
 "metadata": {
  "kernelspec": {
   "display_name": "Python 3",
   "language": "python",
   "name": "python3"
  },
  "language_info": {
   "codemirror_mode": {
    "name": "ipython",
    "version": 3
   },
   "file_extension": ".py",
   "mimetype": "text/x-python",
   "name": "python",
   "nbconvert_exporter": "python",
   "pygments_lexer": "ipython3",
   "version": "3.7.4"
  }
 },
 "nbformat": 4,
 "nbformat_minor": 2
}
